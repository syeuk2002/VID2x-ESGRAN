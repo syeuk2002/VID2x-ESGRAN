{
  "nbformat": 4,
  "nbformat_minor": 0,
  "metadata": {
    "colab": {
      "provenance": [],
      "collapsed_sections": [
        "6BPxh_VmVVIu"
      ],
      "toc_visible": true,
      "include_colab_link": true
    },
    "kernelspec": {
      "name": "python3",
      "display_name": "Python 3"
    },
    "language_info": {
      "name": "python"
    },
    "accelerator": "GPU"
  },
  "cells": [
    {
      "cell_type": "markdown",
      "metadata": {
        "id": "view-in-github",
        "colab_type": "text"
      },
      "source": [
        "<a href=\"https://colab.research.google.com/github/syeuk2002/VID2x-ESGRAN/blob/master/VID2x_ESGRAN_(v2).ipynb\" target=\"_parent\"><img src=\"https://colab.research.google.com/assets/colab-badge.svg\" alt=\"Open In Colab\"/></a>"
      ]
    },
    {
      "cell_type": "markdown",
      "metadata": {
        "id": "IRDbDYYMQt_Y"
      },
      "source": [
        "# Real-ESRGAN Video Upscaling\n",
        "\n",
        "[![arXiv](https://img.shields.io/badge/arXiv-Paper-<COLOR>.svg)](https://arxiv.org/abs/2107.10833)\n",
        "[![GitHub Stars](https://img.shields.io/github/stars/xinntao/Real-ESRGAN?style=social)](https://github.com/xinntao/Real-ESRGAN)\n",
        "[![download](https://img.shields.io/github/downloads/xinntao/Real-ESRGAN/total.svg)](https://github.com/xinntao/Real-ESRGAN/releases)\n",
        "\n",
        "This is a **Practical Image Restoration Demo** of our paper [''Real-ESRGAN: Training Real-World Blind Super-Resolution with Pure Synthetic Data''](https://arxiv.org/abs/2107.10833).\n",
        "We extend the powerful ESRGAN to a practical restoration application (namely, Real-ESRGAN), which is trained with pure synthetic data. <br>\n",
        "The following figure shows some real-life examples.\n",
        "\n",
        "<img src=\"https://raw.githubusercontent.com/xinntao/Real-ESRGAN/master/assets/teaser.jpg\" width=\"100%\">\n",
        "\n",
        "\n",
        "We provide a pretrained model (*RealESRGAN_x4plus.pth*) with upsampling X4.<br>\n",
        "**Note that RealESRGAN may still fail in some cases as the real-world degradations are really too complex.**<br>\n",
        "Moreover, it **may not** perform well on **human faces, text**, *etc*, which will be optimized later.\n",
        "<br>\n",
        "\n",
        "You can also find a **Portable Windows/Linux/MacOS executable files for Intel/AMD/Nvidia GPU.** in our [GitHub repo](https://github.com/xinntao/Real-ESRGAN). <br>\n",
        "This executable file is **portable** and includes all the binaries and models required. No CUDA or PyTorch environment is needed.<br>\n",
        "This executable file is based on the wonderful [Tencent/ncnn](https://github.com/Tencent/ncnn) and [realsr-ncnn-vulkan](https://github.com/nihui/realsr-ncnn-vulkan) by [nihui](https://github.com/nihui)."
      ]
    },
    {
      "cell_type": "markdown",
      "metadata": {
        "id": "6BPxh_VmVVIu"
      },
      "source": [
        "# Load Notebook\n",
        "Before start, make sure that you choose\n",
        "* Hardware Accelerator = GPU"
      ]
    },
    {
      "cell_type": "code",
      "metadata": {
        "id": "GnpnrLfMV2jU"
      },
      "source": [
        "# Clone Real-ESRGAN and enter the Real-ESRGAN\n",
        "!git clone https://github.com/syeuk2002/VID2x-ESGRAN\n",
        "%cd Real-ESRGAN\n",
        "# Set up the environment\n",
        "!pip install basicsr\n",
        "!pip install facexlib\n",
        "!pip install gfpgan\n",
        "!pip install ffmpeg-python\n",
        "!pip install -r requirements.txt\n",
        "!python setup.py develop"
      ],
      "execution_count": null,
      "outputs": []
    },
    {
      "cell_type": "markdown",
      "source": [
        "# Upload Local Files"
      ],
      "metadata": {
        "id": "FRLsR0SZ8-zo"
      }
    },
    {
      "cell_type": "code",
      "metadata": {
        "id": "u1tiyMZJW5td"
      },
      "source": [
        "# create directories\n",
        "import os\n",
        "from google.colab import files\n",
        "import shutil\n",
        "\n",
        "upload_folder = 'upload'\n",
        "result_folder = 'results'\n",
        "\n",
        "if os.path.isdir(upload_folder):\n",
        "    shutil.rmtree(upload_folder)\n",
        "if os.path.isdir(result_folder):\n",
        "    shutil.rmtree(result_folder)\n",
        "os.mkdir(upload_folder)\n",
        "os.mkdir(result_folder)"
      ],
      "execution_count": null,
      "outputs": []
    },
    {
      "cell_type": "code",
      "source": [
        "# upload directly\n",
        "uploaded = files.upload()\n",
        "for filename in uploaded.keys():\n",
        "  dst_path = os.path.join(upload_folder, filename)\n",
        "  print(f'move {filename} to {dst_path}')\n",
        "  shutil.move(filename, dst_path)"
      ],
      "metadata": {
        "id": "mnjIyvyMwPCu"
      },
      "execution_count": null,
      "outputs": []
    },
    {
      "cell_type": "markdown",
      "source": [
        "# Upload From Gdrive"
      ],
      "metadata": {
        "id": "hfh9sPTf8pDU"
      }
    },
    {
      "cell_type": "code",
      "source": [
        "# upload from GDrive in the folder /Vid2x/input\n",
        "from google.colab import drive\n",
        "drive.mount('/content/drive')\n",
        "!mkdir /content/drive/MyDrive/Vid2x\n",
        "!mkdir /content/drive/MyDrive/Vid2x/input\n",
        "!mkdir /content/drive/MyDrive/Vid2x/output"
      ],
      "metadata": {
        "id": "hVMsy8gywRSV"
      },
      "execution_count": null,
      "outputs": []
    },
    {
      "cell_type": "markdown",
      "metadata": {
        "id": "rqiEtaOYXnrt"
      },
      "source": [
        "# Inference\n"
      ]
    },
    {
      "cell_type": "code",
      "metadata": {
        "cellView": "form",
        "id": "aB6N-gEI9bI7"
      },
      "source": [
        "#@title (#1)\n",
        "url = '/content/drive/MyDrive/VID2x/input/test.mp4'  #@param {type: \"string\"}\n",
        "model = 'realesr-animevideov3'  #@param {type: \"string\"}\n",
        "scale = 2  #@param {type: \"number\"}\n",
        "file_suffix = 'outx2'  #@param {type: \"string\"}\n",
        "\n",
        "! python inference_realesrgan_video.py -i {url} -n {model} -s {scale} --suffix {file_suffix}\n",
        " # Argements\n",
        " # -i, --input: input video\n",
        " # -n, --model_name: Used model name\n",
        " # -s, --outscale: Scale\n",
        " # -suffix: Suffix of the output video"
      ],
      "execution_count": null,
      "outputs": []
    },
    {
      "cell_type": "code",
      "metadata": {
        "cellView": "form",
        "id": "pLTkYqlp9bbX"
      },
      "source": [
        "#@title (#2)\n",
        "url = '/content/drive/MyDrive/VID2x/input/test.mp4'  #@param {type: \"string\"}\n",
        "model = 'realesr-animevideov3'  #@param {type: \"string\"}\n",
        "scale = 2  #@param {type: \"number\"}\n",
        "file_suffix = 'outx2'  #@param {type: \"string\"}\n",
        "\n",
        "! python inference_realesrgan_video.py -i {url} -n {model} -s {scale} --suffix {file_suffix}\n",
        " # Argements\n",
        " # -i, --input: input video\n",
        " # -n, --model_name: Used model name\n",
        " # -s, --outscale: Scale\n",
        " # -suffix: Suffix of the output video"
      ],
      "execution_count": null,
      "outputs": []
    },
    {
      "cell_type": "code",
      "metadata": {
        "cellView": "form",
        "id": "b_8bnkXC9brP"
      },
      "source": [
        "#@title (#3)\n",
        "url = '/content/drive/MyDrive/VID2x/input/test.mp4'  #@param {type: \"string\"}\n",
        "model = 'realesr-animevideov3'  #@param {type: \"string\"}\n",
        "scale = 2  #@param {type: \"number\"}\n",
        "file_suffix = 'outx2'  #@param {type: \"string\"}\n",
        "\n",
        "! python inference_realesrgan_video.py -i {url} -n {model} -s {scale} --suffix {file_suffix}\n",
        " # Argements\n",
        " # -i, --input: input video\n",
        " # -n, --model_name: Used model name\n",
        " # -s, --outscale: Scale\n",
        " # -suffix: Suffix of the output video"
      ],
      "execution_count": null,
      "outputs": []
    },
    {
      "cell_type": "code",
      "metadata": {
        "cellView": "form",
        "id": "4qnla6GO9b3v"
      },
      "source": [
        "#@title (#4)\n",
        "url = '/content/drive/MyDrive/VID2x/input/test.mp4'  #@param {type: \"string\"}\n",
        "model = 'realesr-animevideov3'  #@param {type: \"string\"}\n",
        "scale = 2  #@param {type: \"number\"}\n",
        "file_suffix = 'outx2'  #@param {type: \"string\"}\n",
        "\n",
        "! python inference_realesrgan_video.py -i {url} -n {model} -s {scale} --suffix {file_suffix}\n",
        " # Argements\n",
        " # -i, --input: input video\n",
        " # -n, --model_name: Used model name\n",
        " # -s, --outscale: Scale\n",
        " # -suffix: Suffix of the output video"
      ],
      "execution_count": null,
      "outputs": []
    },
    {
      "cell_type": "code",
      "metadata": {
        "cellView": "form",
        "id": "v9a0dMnZ0wqn"
      },
      "source": [
        "#@title (#5)\n",
        "url = '/content/drive/MyDrive/VID2x/input/test.mp4'  #@param {type: \"string\"}\n",
        "model = 'realesr-animevideov3'  #@param {type: \"string\"}\n",
        "scale = 2  #@param {type: \"number\"}\n",
        "file_suffix = 'outx2'  #@param {type: \"string\"}\n",
        "\n",
        "! python inference_realesrgan_video.py -i {url} -n {model} -s {scale} --suffix {file_suffix}\n",
        " # Argements\n",
        " # -i, --input: input video\n",
        " # -n, --model_name: Used model name\n",
        " # -s, --outscale: Scale\n",
        " # -suffix: Suffix of the output video"
      ],
      "execution_count": null,
      "outputs": []
    },
    {
      "cell_type": "markdown",
      "metadata": {
        "id": "dUJ_0fQ5YYm2"
      },
      "source": [
        "Display the Input Video and Enhanced Video"
      ]
    },
    {
      "cell_type": "code",
      "metadata": {
        "id": "7IMD5vhOYp68"
      },
      "source": [
        "from IPython.display import HTML\n",
        "from base64 import b64encode\n",
        " \n",
        "def show_video(video_path, video_width = 600):\n",
        "   \n",
        "  video_file = open(video_path, \"r+b\").read()\n",
        " \n",
        "  video_url = f\"data:video/mp4;base64,{b64encode(video_file).decode()}\"\n",
        "  return HTML(f\"\"\"<video width={video_width} controls><source src=\"{video_url}\"></video>\"\"\")\n",
        "\n",
        "# input video\n",
        "show_video('inputs/video/onepiece_demo.mp4', video_width=1200)"
      ],
      "execution_count": null,
      "outputs": []
    },
    {
      "cell_type": "code",
      "source": [
        "# enhanced video\n",
        "show_video('results/onepiece_demo_outx2.mp4', video_width=1200)"
      ],
      "metadata": {
        "id": "azrDwskj0AdF"
      },
      "execution_count": null,
      "outputs": []
    },
    {
      "cell_type": "markdown",
      "metadata": {
        "id": "nKH0syu9ZAwV"
      },
      "source": [
        "# 7. Download Results\n"
      ]
    },
    {
      "cell_type": "code",
      "metadata": {
        "id": "lHNHoP8PZJQ7"
      },
      "source": [
        "# Download the results\n",
        "files.download('results/onepiece_demo_outx2.mp4')"
      ],
      "execution_count": null,
      "outputs": []
    },
    {
      "cell_type": "markdown",
      "source": [
        "# Export to GDrive"
      ],
      "metadata": {
        "id": "t4dzpMe_6PD6"
      }
    },
    {
      "cell_type": "code",
      "source": [
        "folder = '/content/drive/MyDrive/VID2x/output'  #@param {type: \"string\"}\n",
        "%cp -av \"/content/Real-ESRGAN/results\" \"{folder}\"\n"
      ],
      "metadata": {
        "cellView": "form",
        "id": "1Dd0vX0G6U_1",
        "outputId": "234e6e7b-a988-4b72-ae88-41db09a09f78",
        "colab": {
          "base_uri": "https://localhost:8080/"
        }
      },
      "execution_count": null,
      "outputs": [
        {
          "output_type": "stream",
          "name": "stdout",
          "text": [
            "'/content/Real-ESRGAN/results' -> '/content/drive/MyDrive/VID2x/output/results'\n",
            "'/content/Real-ESRGAN/results/test_outx2.mp4' -> '/content/drive/MyDrive/VID2x/output/results/test_outx2.mp4'\n"
          ]
        }
      ]
    }
  ]
}